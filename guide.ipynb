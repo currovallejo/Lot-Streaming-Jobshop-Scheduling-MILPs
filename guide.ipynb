{
 "cells": [
  {
   "cell_type": "markdown",
   "metadata": {},
   "source": [
    "# LOT STREAMING IN JOB SHOP SCHEDULING\n",
    "\n",
    "## Main features\n",
    "- 4 MILP modelled in **Gurobi** (needed a license to solve them, free for students). **All possible combinations to handle sequence independent/dependent setup times and shift constraints**. Models are\n",
    "  - **basic**: sequence independent setup times and no shifts\n",
    "  - **shift constraints**: sequenc independent setup times and shifts\n",
    "  - **sequence dependent setup times**: no shifts\n",
    "  - **sequence dependent setup times and shift constraints**\n",
    "\n",
    "- **Plott of job shop gantt chart using plotly.express.timeline** (instead of plotly.figure_factory)\n",
    "- **Plot of the evolution of the solution** (MIP Gap and objective function)\n",
    "- **Generation of random parameters for job shop problems**\n",
    "- PEP8 (guidestyle) compliance \n",
    "\n",
    "## Mixed Integer Linear Programming Models\n",
    "All them can be found in the \"MILP_LSJSP.pdf file. They are in spanish, sorry for that. Feel free to do the translation and collaborate with this project!\n",
    "\n",
    "## Secondary contents\n",
    "- drafts of extremely simple models in pyomo (equal size lot streaming)\n",
    "- drafts of gurobi models (used when learning and researching this problem)\n",
    "\n",
    "## Manual for users\n",
    "Gurobi models (files within folder models_gurobi) are the core of this work and where all models shown in the pdf are solved.\n",
    "\n",
    "In each model_******.py file, there is a main() function with the code to use each model.\n",
    "\n",
    "**Shift constraints models incorporate a greedy heuristic to calculate the number of shifts necessary to get feasible solutions**\n",
    "\n",
    "### Common imports for all models"
   ]
  },
  {
   "cell_type": "code",
   "execution_count": null,
   "metadata": {},
   "outputs": [],
   "source": [
    "from models_gurobi.params import JobShopRandomParams\n",
    "from models_gurobi.params import JobShopRandomParamsSeqDep\n",
    "from models_gurobi import plot\n",
    "from models_gurobi import model_basic\n"
   ]
  },
  {
   "cell_type": "markdown",
   "metadata": {},
   "source": [
    "## BASIC MODEL EXAMPLE"
   ]
  },
  {
   "cell_type": "code",
   "execution_count": null,
   "metadata": {},
   "outputs": [],
   "source": [
    "from models_gurobi import model_basic\n",
    "\n",
    "params = JobShopRandomParams(n_machines=3, n_jobs=3, n_lots=3, seed=4)\n",
    "params.print_params()\n",
    "\n",
    "model, variables = model_basic.build(params)\n",
    "model, variables, elapsed_times, objectives, gaps = model_basic.solve(\n",
    "        model, variables, timeLimit=200, plotSolutionEvolution=True\n",
    "    )\n",
    "results_df = model_basic.get_df_results(model, variables, params)\n",
    "plot.gantt(results_df, params, show=True, version=1)"
   ]
  },
  {
   "cell_type": "markdown",
   "metadata": {},
   "source": [
    "## SHIFT CONSTRAINTS MODEL EXAMPLE"
   ]
  },
  {
   "cell_type": "code",
   "execution_count": null,
   "metadata": {},
   "outputs": [],
   "source": [
    "from models_gurobi import model_shift_constraints\n",
    "\n",
    "params = JobShopRandomParams(n_machines=3, n_jobs=3, n_lots=3, seed=5)\n",
    "params.print_params()\n",
    "\n",
    "model, variables = model_shift_constraints.build_and_solve(params, shift_time=480)\n",
    "df_results = model_basic.get_df_results(model, variables, params)\n",
    "\n",
    "plot.gantt(df_results, params, show=True, version='shift_constraints')"
   ]
  },
  {
   "cell_type": "markdown",
   "metadata": {},
   "source": [
    "## SEQUENCE DEPENDENT SETUP TIMES MODEL EXAMPLE"
   ]
  },
  {
   "cell_type": "code",
   "execution_count": null,
   "metadata": {},
   "outputs": [],
   "source": [
    "from models_gurobi import model_seqdep_setup\n",
    "\n",
    "params = JobShopRandomParamsSeqDep(n_machines=3, n_jobs=3, n_lots=3, seed=4)\n",
    "params.printParams()\n",
    "\n",
    "\n",
    "model, variables = model_seqdep_setup.build(params)\n",
    "model, variables, *_ = model_basic.solve(\n",
    "    model, variables, timeLimit=300, plotSolutionEvolution=False\n",
    ")\n",
    "df_results = model_seqdep_setup.get_df_results(model, variables, params)\n",
    "plot.gantt(df_results, params, show=True, version='seqdep_setup')"
   ]
  },
  {
   "cell_type": "markdown",
   "metadata": {},
   "source": [
    "## SEQUENCE DEPENDENT SETUP TIMES with SHIFT CONSTRAINTS MODEL"
   ]
  },
  {
   "cell_type": "code",
   "execution_count": null,
   "metadata": {},
   "outputs": [],
   "source": [
    "from models_gurobi import model_seqdep_shift\n",
    "\n",
    "params = JobShopRandomParamsSeqDep(n_machines=3, n_jobs=3, n_lots=2, seed=5)\n",
    "params.printParams()\n",
    "\n",
    "model, variables = model_seqdep_shift.build_and_solve(params, shift_time=480, timeLimit=600)\n",
    "df_results = model_seqdep_setup.get_df_results(model, variables, params)\n",
    "\n",
    "plot.gantt(df_results, params, show=True, version=\"seqdep_setup_shift_constraints\")"
   ]
  }
 ],
 "metadata": {
  "kernelspec": {
   "display_name": "Python 3",
   "language": "python",
   "name": "python3"
  },
  "language_info": {
   "name": "python",
   "version": "3.11.4"
  }
 },
 "nbformat": 4,
 "nbformat_minor": 2
}
